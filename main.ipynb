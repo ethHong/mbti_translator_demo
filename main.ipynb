{
 "cells": [
  {
   "cell_type": "code",
   "execution_count": 1,
   "metadata": {},
   "outputs": [],
   "source": [
    "from BART_utils import get_prob, judge_mbti, compute_score, mbti_translator\n",
    "import numpy as np"
   ]
  },
  {
   "cell_type": "code",
   "execution_count": 3,
   "metadata": {},
   "outputs": [],
   "source": [
    "text = input(\"Put your sentence!: \")\n",
    "result = mbti_translator(text)"
   ]
  },
  {
   "cell_type": "code",
   "execution_count": 5,
   "metadata": {},
   "outputs": [],
   "source": [
    "import pickle\n",
    "import torch\n",
    "\n",
    "from transformers import AutoTokenizer\n",
    "from transformers import AutoModelForSequenceClassification\n",
    "\n",
    "tokenizer = AutoTokenizer.from_pretrained(\"facebook/bart-large-mnli\")\n",
    "nli_model = (\n",
    "    AutoModelForSequenceClassification.from_pretrained(\n",
    "        \"facebook/bart-large-mnli\"\n",
    "    ).cuda()\n",
    "    if torch.cuda.is_available()\n",
    "    else AutoModelForSequenceClassification.from_pretrained(\"facebook/bart-large-mnli\")\n",
    ")\n",
    "\n",
    "with open(\"nli_model.pkl\", \"wb\") as f:\n",
    "    pickle.dump(nli_model, f)\n",
    "\n",
    "with open(\"tokenizer.pkl\", \"wb\") as f:\n",
    "    pickle.dump(tokenizer, f)"
   ]
  },
  {
   "cell_type": "code",
   "execution_count": 25,
   "metadata": {},
   "outputs": [
    {
     "data": {
      "text/plain": [
       "('ISFP',\n",
       " ({'E': 24.152868588039876, 'I': 75.84713141196012},\n",
       "  {'N': 36.15997366897479, 'S': 63.840026331025214},\n",
       "  {'T': 46.52131285546611, 'F': 53.4786871445339},\n",
       "  {'P': 63.51013199367834, 'J': 36.489868006321664}))"
      ]
     },
     "execution_count": 25,
     "metadata": {},
     "output_type": "execute_result"
    }
   ],
   "source": [
    "result"
   ]
  }
 ],
 "metadata": {
  "interpreter": {
   "hash": "ca045e0e82b80c80cdacb54c8a532995176e76269958f022629c504a9c392a37"
  },
  "kernelspec": {
   "display_name": "Python 3.9.6 ('mbti_bart-OwFxlXtE')",
   "language": "python",
   "name": "python3"
  },
  "language_info": {
   "codemirror_mode": {
    "name": "ipython",
    "version": 3
   },
   "file_extension": ".py",
   "mimetype": "text/x-python",
   "name": "python",
   "nbconvert_exporter": "python",
   "pygments_lexer": "ipython3",
   "version": "3.9.6"
  },
  "orig_nbformat": 4
 },
 "nbformat": 4,
 "nbformat_minor": 2
}
