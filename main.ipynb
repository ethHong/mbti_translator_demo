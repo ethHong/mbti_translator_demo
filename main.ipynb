{
 "cells": [
  {
   "cell_type": "code",
   "execution_count": 2,
   "metadata": {},
   "outputs": [
    {
     "name": "stderr",
     "output_type": "stream",
     "text": [
      "Downloading: 100%|██████████| 26.0/26.0 [00:00<00:00, 26.0kB/s]\n",
      "Downloading: 100%|██████████| 1.13k/1.13k [00:00<00:00, 1.16MB/s]\n",
      "Downloading: 100%|██████████| 878k/878k [00:00<00:00, 908kB/s] \n",
      "Downloading: 100%|██████████| 446k/446k [00:01<00:00, 449kB/s]  \n",
      "Downloading: 100%|██████████| 1.29M/1.29M [00:01<00:00, 1.10MB/s]\n",
      "Downloading: 100%|██████████| 1.52G/1.52G [00:29<00:00, 54.8MB/s]\n"
     ]
    }
   ],
   "source": [
    "from BART_utils import get_prob, judge_mbti, compute_score, mbti_translator\n",
    "import numpy as np"
   ]
  },
  {
   "cell_type": "code",
   "execution_count": 3,
   "metadata": {},
   "outputs": [
    {
     "name": "stderr",
     "output_type": "stream",
     "text": [
      "C:\\Users\\sukhy\\.virtualenvs\\mbti_translator_demo-C9tdDvXD\\lib\\site-packages\\transformers\\tokenization_utils_base.py:2284: FutureWarning: The `truncation_strategy` argument is deprecated and will be removed in a future version, use `truncation=True` to truncate examples to a max length. You can give a specific length with `max_length` (e.g. `max_length=45`) or leave max_length to None to truncate to the maximal input size of the model (e.g. 512 for Bert).  If you have pairs of inputs, you can give a specific truncation strategy selected among `truncation='only_first'` (will only truncate the first sentence in the pairs) `truncation='only_second'` (will only truncate the second sentence in the pairs) or `truncation='longest_first'` (will iteratively remove tokens from the longest sentence in the pairs).\n",
      "  warnings.warn(\n"
     ]
    }
   ],
   "source": [
    "text = input(\"Put your sentence!: \")\n",
    "result = mbti_translator(text)"
   ]
  }
 ],
 "metadata": {
  "interpreter": {
   "hash": "ca045e0e82b80c80cdacb54c8a532995176e76269958f022629c504a9c392a37"
  },
  "kernelspec": {
   "display_name": "Python 3.9.6 ('mbti_bart-OwFxlXtE')",
   "language": "python",
   "name": "python3"
  },
  "language_info": {
   "codemirror_mode": {
    "name": "ipython",
    "version": 3
   },
   "file_extension": ".py",
   "mimetype": "text/x-python",
   "name": "python",
   "nbconvert_exporter": "python",
   "pygments_lexer": "ipython3",
   "version": "3.8.5"
  },
  "orig_nbformat": 4
 },
 "nbformat": 4,
 "nbformat_minor": 2
}
